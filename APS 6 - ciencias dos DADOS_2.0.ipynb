{
 "cells": [
  {
   "cell_type": "markdown",
   "metadata": {},
   "source": [
    "# APS 6"
   ]
  },
  {
   "cell_type": "markdown",
   "metadata": {},
   "source": [
    "## Kevin Liu\n",
    "###### 2A"
   ]
  },
  {
   "cell_type": "markdown",
   "metadata": {},
   "source": [
    "### Questão 1\n",
    "##### -Suponha que estejamos testando H0 : μ = μ0 versus H1 : μ > μ0. Calcule o valor P para os seguintes valores observados da estatística de teste. (Montgomery 4-28)\n",
    "    \n",
    "a. z0 = 2.35\n",
    "\n",
    "b1. z0 = 1.53\n",
    "\n",
    "b2. z0 = −0.15\n"
   ]
  },
  {
   "cell_type": "code",
   "execution_count": 2,
   "metadata": {
    "collapsed": true
   },
   "outputs": [],
   "source": [
    "%matplotlib inline\n",
    "from math import *\n",
    "import matplotlib.pyplot as plt\n",
    "import pandas as pd\n",
    "import numpy as np\n",
    "from scipy.stats import *"
   ]
  },
  {
   "cell_type": "code",
   "execution_count": 3,
   "metadata": {
    "collapsed": false
   },
   "outputs": [
    {
     "name": "stdout",
     "output_type": "stream",
     "text": [
      "P = 0.938670553484 %\n"
     ]
    }
   ],
   "source": [
    "#a)\n",
    "z0 = 2.35 # media observada \n",
    "x = norm.cdf(z0,loc=0,scale=1)\n",
    "P = (1 - x)*100  # multplica por 100 para deixar em %  \n",
    "print(\"P =\",P,\"%\") "
   ]
  },
  {
   "cell_type": "code",
   "execution_count": 4,
   "metadata": {
    "collapsed": false
   },
   "outputs": [
    {
     "name": "stdout",
     "output_type": "stream",
     "text": [
      "P = 6.3008364464 %\n"
     ]
    }
   ],
   "source": [
    "#b1\n",
    "z0_2 = 1.53 # media observada \n",
    "x_b1 = norm.cdf(z0_2,loc=0,scale=1)\n",
    "P_b1 = (1 - x_b1)*100  # multplica por 100 para deixar em %  \n",
    "print(\"P =\",P_b1,\"%\") "
   ]
  },
  {
   "cell_type": "code",
   "execution_count": 5,
   "metadata": {
    "collapsed": false
   },
   "outputs": [
    {
     "name": "stdout",
     "output_type": "stream",
     "text": [
      "P = 55.961769237 %\n"
     ]
    }
   ],
   "source": [
    "#b2\n",
    "z0_2 = -0.15 # media observada \n",
    "x_b2 = norm.cdf(z0_2,loc=0,scale=1)\n",
    "P_b2 = (1 - x_b2)*100  # multplica por 100 para deixar em %  \n",
    "print(\"P =\",P_b2,\"%\") "
   ]
  },
  {
   "cell_type": "markdown",
   "metadata": {},
   "source": [
    "#### Agora suponha que estejamos testando H0 : μ = μ0 versus H1 : μ ≠ μ0, calcule o valor P para os seguintes valores da estatística de teste. (Montgomery 4-29)\n",
    "c. z0 = 2.45\n",
    "\n",
    "d. z0 = −0.25\n"
   ]
  },
  {
   "cell_type": "code",
   "execution_count": 22,
   "metadata": {
    "collapsed": false
   },
   "outputs": [
    {
     "name": "stdout",
     "output_type": "stream",
     "text": [
      "P = 1.42856214705 %\n"
     ]
    }
   ],
   "source": [
    "#c \n",
    "z0_c = 2.45\n",
    "x_c = norm.cdf(z0_c,loc=0,scale=1)\n",
    "P_c = 2*(1- x_c)*100 # multiplica por 2 pois é bicaudal \n",
    "print(\"P =\",P_c,\"%\") "
   ]
  },
  {
   "cell_type": "code",
   "execution_count": 23,
   "metadata": {
    "collapsed": false
   },
   "outputs": [
    {
     "name": "stdout",
     "output_type": "stream",
     "text": [
      "P = 80.2587348634 %\n"
     ]
    }
   ],
   "source": [
    "#d\n",
    "z0_d = -0.25\n",
    "x_d = norm.cdf(z0_d,loc=0,scale=1)\n",
    "P_d = 2*(x_d)*100 # multiplica por 2 pois é bicaudal \n",
    "print(\"P =\",P_d,\"%\") "
   ]
  },
  {
   "cell_type": "markdown",
   "metadata": {},
   "source": [
    "### Questão 2\n",
    "##### Pesquisadores da área médica desenvolveram um novo coração artificial con- struído primariamente de titânio e plástico. O coração deverá durar e funcionar de forma quase indefinida uma vez que seja implantado no paciente, porém as baterias precisam ser recarregadas a cada 4 horas. Uma amostra aleatória de 50 baterias foi selecionada e sujeitada a um teste de durabilidade. A média de duração da carga destas baterias foi de 4.05 horas. Assuma que a vida das baterias é distribuída de forma normal com desvio padrão de σ = 0.2 horas. Fonte: (Montgomery 4-37)\n",
    "a. Existe evidência para suportar que a vida média das baterias excede 4 horas? Use α = 0.05\n",
    "\n",
    "b. Qual é o valor P do teste do item anterior?\n",
    "\n",
    "c. Caso se quisesse ter 98% de certeza de que a média verdadeira é 4, quais são os limites tolerados para x ?"
   ]
  },
  {
   "cell_type": "code",
   "execution_count": 25,
   "metadata": {
    "collapsed": false
   },
   "outputs": [
    {
     "name": "stdout",
     "output_type": "stream",
     "text": [
      "Xcritico = 4.04652348615\n",
      "Existe evidência para suportar que a vida média das baterias excede 4h pois a ppf de 0.95 encontrada é maior do que 4\n"
     ]
    }
   ],
   "source": [
    "#a \n",
    "m = 4\n",
    "dp = 0.2/((50)**(1/2))\n",
    "alfa = 0.05\n",
    "\n",
    "x2 = norm.ppf(1-alfa,loc=m,scale=dp) # 1-alfa pois e o valor maximo que a significancia admite \n",
    "print(\"Xcritico =\",x2)\n",
    "print(\"Existe evidência para suportar que a vida média das baterias excede 4h pois a ppf de 0.95 encontrada é maior do que 4\")"
   ]
  },
  {
   "cell_type": "code",
   "execution_count": 11,
   "metadata": {
    "collapsed": false
   },
   "outputs": [
    {
     "name": "stdout",
     "output_type": "stream",
     "text": [
      "P = 3.85499358718 %\n"
     ]
    }
   ],
   "source": [
    "#b\n",
    "media_amostra = 4.05\n",
    "c = norm.cdf(media_amostra,loc=m,scale=dp)\n",
    "P_ = (1 -c)*100 \n",
    "print(\"P =\",P_,\"%\")"
   ]
  },
  {
   "cell_type": "code",
   "execution_count": 24,
   "metadata": {
    "collapsed": false
   },
   "outputs": [
    {
     "name": "stdout",
     "output_type": "stream",
     "text": [
      "O limite toleravel caso se quisesse ter 98% de certeza de que a média verdadeira é 4 é de 10.1612467319\n"
     ]
    }
   ],
   "source": [
    "#c\n",
    "alfa2 = 0.02  \n",
    "tolera1 = norm.ppf(1-alfa2,loc=4,scale=dp)  # Xcritico\n",
    "print(\"O limite toleravel caso se quisesse ter 98% de certeza de que a média verdadeira é 4 é de\",tolera1)"
   ]
  },
  {
   "cell_type": "markdown",
   "metadata": {},
   "source": [
    "\n",
    "### Questão 3\n",
    " ##### O volume de produção de um processo químico está sob análise. A partir da experiência prévia do processo sabe-se que o desvio padrão da produção é 3. Os últimos 5 dias de operação da máquina resultaram nos seguintes volumes de produção: 91.6, 88.75, 90.8, 89.95 e 91.3%. Use α = 0.05 . (Fonte: Montgomery 4-39)\n",
    "Existe evidência de que o volume médio de produção não seja 90%? Use a abordagem de valor P, desenha a distribuição de X, e a zona de rejeição.\n"
   ]
  },
  {
   "cell_type": "code",
   "execution_count": 15,
   "metadata": {
    "collapsed": false
   },
   "outputs": [
    {
     "name": "stdout",
     "output_type": "stream",
     "text": [
      "A média da amostra é 90.47999999999999\n"
     ]
    }
   ],
   "source": [
    "dp = 3\n",
    "alfa = 0.05\n",
    "amostra = [91.6,88.75,90.8,89.95,91.3]\n",
    "media_amostra = sum(amostra)/len(amostra)\n",
    "\n",
    "dp_amostra = 3/(len(amostra)**0.5)\n",
    "print(\"A média da amostra é\",media_amostra)\n",
    "#dp_amostra"
   ]
  },
  {
   "cell_type": "code",
   "execution_count": 26,
   "metadata": {
    "collapsed": false
   },
   "outputs": [
    {
     "name": "stdout",
     "output_type": "stream",
     "text": [
      "Limite toleravel(esquerda): 87.3704323783\n"
     ]
    }
   ],
   "source": [
    "x1 = norm.ppf(alfa/2,loc=90,scale=dp_amostra) # limite toleravel esquerda ou xcritico\n",
    "print(\"Limite toleravel(esquerda):\",x1)"
   ]
  },
  {
   "cell_type": "code",
   "execution_count": 27,
   "metadata": {
    "collapsed": false
   },
   "outputs": [
    {
     "name": "stdout",
     "output_type": "stream",
     "text": [
      "Limite toleravel(direita): 92.6295676217\n"
     ]
    }
   ],
   "source": [
    "x2 = norm.ppf(1-alfa/2,loc=90,scale=dp_amostra) # limite toleravel direita , xcritico\n",
    "print(\"Limite toleravel(direita):\",x2)  "
   ]
  },
  {
   "cell_type": "code",
   "execution_count": 28,
   "metadata": {
    "collapsed": false
   },
   "outputs": [
    {
     "name": "stdout",
     "output_type": "stream",
     "text": [
      "P =  0.72051\n"
     ]
    }
   ],
   "source": [
    "x = norm.cdf(media_amostra,loc=90,scale=dp_amostra)\n",
    "p = round(2*(1-x),5) #  Valor P\n",
    "print(\"P = \",p)"
   ]
  },
  {
   "cell_type": "markdown",
   "metadata": {},
   "source": [
    "###### Como x_barra(media_amostra) não se encontra na região critica , não existe evidência que H_alternativo exista"
   ]
  },
  {
   "cell_type": "markdown",
   "metadata": {},
   "source": [
    "### Questão 4   - Tirar duvida no A  e b\n",
    "##### Um engenheiro civil está analisando a resistência a compressão do concreto. A força de compressão é distribuída de forma aproximadamente normal com variância σ2 = 1000psi2. Uma amostra aleatória de 12 exemplares tem uma resistência à compressão média de x = 3255.42psi . (Fonte: Montgomery 4-43)\n",
    "a. Teste a hipótese de que a verdadeira resistência média à compressão seja de 3500 psi. Use a significância de α = 0.01\n",
    "\n",
    "b. Qual seria o menor nível de significância que rejeitaria a hipótese nula?"
   ]
  },
  {
   "cell_type": "code",
   "execution_count": 47,
   "metadata": {
    "collapsed": false
   },
   "outputs": [
    {
     "name": "stdout",
     "output_type": "stream",
     "text": [
      "Xc(esquerda) = 3476.4860031 \n",
      "\n",
      "Xc(direita) = 3523.5139969\n",
      " De acordo com o teste da hipótese a verdadeira media da compressão não é 3500 psi\n",
      "a media_obs encontra-se dentro da zona de rejeição\n"
     ]
    }
   ],
   "source": [
    "var = 1000\n",
    "media_obs = 3255.42\n",
    "media = 3500  \n",
    "n = 12 \n",
    "dp = sqrt(var)/sqrt(12)\n",
    "alfa = 0.01 \n",
    "\n",
    "x = norm.ppf(alfa/2,loc=media,scale=dp)\n",
    "print(\"Xc(esquerda) =\",x,\"\\n\")\n",
    "x1 = norm.ppf(1-alfa/2,loc=media,scale=dp)\n",
    "print(\"Xc(direita) =\",x1) \n",
    "print(\" De acordo com o teste da hipótese a verdadeira media da compressão não é 3500 psi\\n\"\"a media_obs encontra-se dentro da zona de rejeição\")"
   ]
  },
  {
   "cell_type": "code",
   "execution_count": 48,
   "metadata": {
    "collapsed": false
   },
   "outputs": [
    {
     "name": "stdout",
     "output_type": "stream",
     "text": [
      "O menor nível de significância que rejeitaria a hipótese nula é 3.96255309038e-158 \n",
      " Ou seja 0\n"
     ]
    }
   ],
   "source": [
    "comp = 2* norm.cdf(media_obs,loc=media,scale=dp)\n",
    "print(\"O menor nível de significância que rejeitaria a hipótese nula é\",comp,\"\\n\",\"Ou seja 0\")"
   ]
  },
  {
   "cell_type": "markdown",
   "metadata": {},
   "source": [
    "### Questão 5\n",
    "##### A vida útil medida em horas de um termopar usado num forno é distribuída de forma normal, com desvio padrão de 20 horas.\n",
    "#### Uma amostra aleatória de 15 termopares resultou nos seguintes dados: 553, 552, 567, 579, 550, 541, 537, 553, 552, 546, 538, 553, 581, 539, 529. (Montgomery 4-42)\n",
    "a. Existe evidência para suportar a alegação de que a vida média exceda 540 horas? Use um nível de significância de 0.05.\n",
    "\n",
    "b. Qual o valor P deste teste?"
   ]
  },
  {
   "cell_type": "code",
   "execution_count": 49,
   "metadata": {
    "collapsed": false
   },
   "outputs": [
    {
     "name": "stdout",
     "output_type": "stream",
     "text": [
      "548.493987606\n",
      "Existe evidencia para suportar a alegação de que a vida média exceda 540 horas para suportar a alegação de que a vida média exceda 540 horas\n"
     ]
    }
   ],
   "source": [
    "dp = 20 \n",
    "amostra = [553, 552, 567, 579, 550, 541, 537, 553, 552, 546, 538, 553, 581, 539, 529]\n",
    "alfa = 0.05 \n",
    "dp_amostra = dp/(len(amostra)**0.5)\n",
    "media_amostra = sum(amostra)/len(amostra)\n",
    "media =540\n",
    "\n",
    "x = norm.ppf(1-alfa,loc=media,scale=dp_amostra)\n",
    "print(x) # valor critico direita\n",
    "cdf = norm.cdf(media_amostra,loc=media,scale=dp_amostra)\n",
    "print(\"Existe evidencia para suportar a alegação de que a vida média exceda 540 horas para suportar a alegação de que a vida média exceda 540 horas\")"
   ]
  },
  {
   "cell_type": "code",
   "execution_count": 50,
   "metadata": {
    "collapsed": false
   },
   "outputs": [
    {
     "name": "stdout",
     "output_type": "stream",
     "text": [
      "P = 1.4092901074 %\n"
     ]
    }
   ],
   "source": [
    "P  = (1-cdf)*100 \n",
    "print(\"P =\",P,\"%\")  # prob de ser maior do que a media"
   ]
  },
  {
   "cell_type": "code",
   "execution_count": null,
   "metadata": {
    "collapsed": true
   },
   "outputs": [],
   "source": []
  }
 ],
 "metadata": {
  "kernelspec": {
   "display_name": "Python 3",
   "language": "python",
   "name": "python3"
  },
  "language_info": {
   "codemirror_mode": {
    "name": "ipython",
    "version": 3
   },
   "file_extension": ".py",
   "mimetype": "text/x-python",
   "name": "python",
   "nbconvert_exporter": "python",
   "pygments_lexer": "ipython3",
   "version": "3.6.0"
  }
 },
 "nbformat": 4,
 "nbformat_minor": 2
}
